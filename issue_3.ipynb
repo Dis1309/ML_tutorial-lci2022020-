{
  "nbformat": 4,
  "nbformat_minor": 0,
  "metadata": {
    "colab": {
      "provenance": []
    },
    "kernelspec": {
      "name": "python3",
      "display_name": "Python 3"
    },
    "language_info": {
      "name": "python"
    }
  },
  "cells": [
    {
      "cell_type": "code",
      "execution_count": null,
      "metadata": {
        "id": "md7_EXytqbI5"
      },
      "outputs": [],
      "source": [
        "import numpy as np\n",
        "import pandas as pd\n",
        "import matplotlib.pyplot as plt"
      ]
    },
    {
      "cell_type": "code",
      "source": [
        "ds = pd.read_csv('Salary_Data.csv')"
      ],
      "metadata": {
        "id": "J70V5tyjqonv"
      },
      "execution_count": null,
      "outputs": []
    },
    {
      "cell_type": "code",
      "source": [
        "x = ds.iloc[:,:-1].values\n",
        "y = ds.iloc[:,-1].values"
      ],
      "metadata": {
        "id": "FSYiUs9Jrjai"
      },
      "execution_count": 11,
      "outputs": []
    },
    {
      "cell_type": "code",
      "source": [
        "from sklearn.linear_model import LinearRegression\n",
        "lr = LinearRegression()\n"
      ],
      "metadata": {
        "id": "syCXXWU4r0ze"
      },
      "execution_count": 12,
      "outputs": []
    },
    {
      "cell_type": "code",
      "source": [
        "from sklearn.preprocessing import PolynomialFeatures\n",
        "poly_ds = PolynomialFeatures(degree = 5)\n",
        "x_poly = poly_ds.fit_transform(x)\n",
        "lr.fit(x_poly,y)"
      ],
      "metadata": {
        "colab": {
          "base_uri": "https://localhost:8080/"
        },
        "id": "jNopn3YUtu-7",
        "outputId": "b537d74e-5223-4a08-ba52-5c3405cb17e7"
      },
      "execution_count": 14,
      "outputs": [
        {
          "output_type": "execute_result",
          "data": {
            "text/plain": [
              "LinearRegression()"
            ]
          },
          "metadata": {},
          "execution_count": 14
        }
      ]
    },
    {
      "cell_type": "code",
      "source": [
        "plt.scatter(x,y,color='green')\n",
        "plt.plot(x,lr.predict(poly_ds.fit_transform(x)),color='red')\n",
        "plt.title('Salary vs Exp (Polynomial Regression')\n",
        "plt.xlabel('Exp')\n",
        "plt.ylabel('Salary')\n",
        "plt.show()"
      ],
      "metadata": {
        "colab": {
          "base_uri": "https://localhost:8080/",
          "height": 295
        },
        "id": "2d3SldqGt8rI",
        "outputId": "584f4e00-04dc-4630-e4c7-581fe2a2e500"
      },
      "execution_count": 15,
      "outputs": [
        {
          "output_type": "display_data",
          "data": {
            "text/plain": [
              "<Figure size 432x288 with 1 Axes>"
            ],
            "image/png": "[encoded data removed]"
          },
          "metadata": {
            "needs_background": "light"
          }
        }
      ]
    },
    {
      "cell_type": "code",
      "source": [],
      "metadata": {
        "id": "35zhkFmIuxjS"
      },
      "execution_count": null,
      "outputs": []
    }
  ]
}